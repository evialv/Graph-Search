{
  "nbformat": 4,
  "nbformat_minor": 0,
  "metadata": {
    "kernelspec": {
      "display_name": "Python 3",
      "language": "python",
      "name": "python3"
    },
    "language_info": {
      "codemirror_mode": {
        "name": "ipython",
        "version": 3
      },
      "file_extension": ".py",
      "mimetype": "text/x-python",
      "name": "python",
      "nbconvert_exporter": "python",
      "pygments_lexer": "ipython3",
      "version": "3.8.2"
    },
    "colab": {
      "name": "Ergasia2.ipynb",
      "provenance": [],
      "collapsed_sections": [],
      "toc_visible": true
    }
  },
  "cells": [
    {
      "cell_type": "markdown",
      "metadata": {
        "deletable": false,
        "editable": false,
        "nbgrader": {
          "cell_type": "markdown",
          "checksum": "05349b7da4cb77e6f7fb0b45a3b2a7e5",
          "grade": false,
          "grade_id": "cell-697c15f1f8587085",
          "locked": true,
          "schema_version": 3,
          "solution": false,
          "task": false
        },
        "id": "mzmxfNtAeO0Z"
      },
      "source": [
        "# Εργασία 2"
      ]
    },
    {
      "cell_type": "markdown",
      "metadata": {
        "deletable": false,
        "editable": false,
        "nbgrader": {
          "cell_type": "markdown",
          "checksum": "062ecbcbf443bf23d1d79ad3ee427b48",
          "grade": false,
          "grade_id": "cell-cf7029fac9cb923d",
          "locked": true,
          "schema_version": 3,
          "solution": false,
          "task": false
        },
        "id": "85g__4t0eO0a"
      },
      "source": [
        "### Ερώτημα Α: Brute force αλγόριθμος"
      ]
    },
    {
      "cell_type": "markdown",
      "metadata": {
        "deletable": false,
        "editable": false,
        "nbgrader": {
          "cell_type": "markdown",
          "checksum": "edce5a3ecac03216f0da939fce153f9a",
          "grade": false,
          "grade_id": "cell-b7e5451dd8603b06",
          "locked": true,
          "schema_version": 3,
          "solution": false,
          "task": false
        },
        "id": "c0pP1qwYeO0b"
      },
      "source": [
        "Ερώτημα Α.1) Να αναπτύξετε έναν “brute force” αλγόριθμο για την επίλυση του προβλήματος k-center."
      ]
    },
    {
      "cell_type": "code",
      "metadata": {
        "deletable": false,
        "nbgrader": {
          "cell_type": "code",
          "checksum": "a67ee1bd8f670c13e64b68f0fed18092",
          "grade": true,
          "grade_id": "cell-b55fdd2c0d76ee77",
          "locked": false,
          "points": 10,
          "schema_version": 3,
          "solution": true,
          "task": false
        },
        "id": "Ax1qNkdHeO0b"
      },
      "source": [
        "import networkx as nx\n",
        "import random\n",
        "import itertools\n",
        "from timeit import default_timer\n",
        "import matplotlib.pyplot as plt"
      ],
      "execution_count": null,
      "outputs": []
    },
    {
      "cell_type": "code",
      "metadata": {
        "deletable": false,
        "nbgrader": {
          "cell_type": "code",
          "checksum": "4d1faf4e3fd3abd84f12811eb2fd08ef",
          "grade": false,
          "grade_id": "cell-a9aebadea4c492a2",
          "locked": false,
          "schema_version": 3,
          "solution": true,
          "task": false
        },
        "id": "DEWVxPdBeO0e"
      },
      "source": [
        "# Υπολογισμός του κόστους μιας συγκεκριμένης λύσης για το k-center πρόβλημα\n",
        "def k_centers_objective_value(G, centers):\n",
        "    max_min_weight = 0;\n",
        "    for n in range(len(G)):\n",
        "        if n not in centers:\n",
        "            min_weight_n = 10000\n",
        "            for c in centers:\n",
        "                if c == n:\n",
        "                    continue\n",
        "                else:\n",
        "                    w = G[n][c]['weight']\n",
        "                if w < min_weight_n:\n",
        "                    min_weight_n = w;\n",
        "            if min_weight_n > max_min_weight:\n",
        "                max_min_weight = min_weight_n\n",
        "    return max_min_weight"
      ],
      "execution_count": null,
      "outputs": []
    },
    {
      "cell_type": "code",
      "metadata": {
        "deletable": false,
        "editable": false,
        "nbgrader": {
          "cell_type": "code",
          "checksum": "ec47a5b1d9ea82af3bae28bf0589a16e",
          "grade": true,
          "grade_id": "cell-b2733b534512e941",
          "locked": true,
          "points": 10,
          "schema_version": 3,
          "solution": false,
          "task": false
        },
        "id": "lL7G5IuQeO0g",
        "outputId": "56ff90d2-8f81-4c4d-f119-e78bfadb09a2",
        "colab": {
          "base_uri": "https://localhost:8080/",
          "height": 484
        }
      },
      "source": [
        "# Έλεγχος και αξιολόγηση της απάντησης. Μην κάνετε αλλαγές στο κελί αυτό.\n",
        "!pip install nose\n",
        "\n",
        "from nose.tools import assert_equal\n",
        "\n",
        "G = nx.read_gexf('graph_0005_01234.gexf', node_type=int)\n",
        "assert_equal(k_centers_objective_value(G, [0, 1]), 156)\n",
        "assert_equal(k_centers_objective_value(G, [0, 1, 2]), 130)\n",
        "\n",
        "G = nx.read_gexf('graph_0010_01234.gexf', node_type=int)\n",
        "assert_equal(k_centers_objective_value(G, [2, 4]), 338)\n",
        "assert_equal(k_centers_objective_value(G, [0, 1, 2]), 257)\n"
      ],
      "execution_count": null,
      "outputs": [
        {
          "output_type": "stream",
          "text": [
            "Collecting nose\n",
            "\u001b[?25l  Downloading https://files.pythonhosted.org/packages/15/d8/dd071918c040f50fa1cf80da16423af51ff8ce4a0f2399b7bf8de45ac3d9/nose-1.3.7-py3-none-any.whl (154kB)\n",
            "\r\u001b[K     |██▏                             | 10kB 17.3MB/s eta 0:00:01\r\u001b[K     |████▎                           | 20kB 1.7MB/s eta 0:00:01\r\u001b[K     |██████▍                         | 30kB 2.2MB/s eta 0:00:01\r\u001b[K     |████████▌                       | 40kB 2.5MB/s eta 0:00:01\r\u001b[K     |██████████▋                     | 51kB 2.0MB/s eta 0:00:01\r\u001b[K     |████████████▊                   | 61kB 2.2MB/s eta 0:00:01\r\u001b[K     |██████████████▉                 | 71kB 2.4MB/s eta 0:00:01\r\u001b[K     |█████████████████               | 81kB 2.7MB/s eta 0:00:01\r\u001b[K     |███████████████████             | 92kB 2.8MB/s eta 0:00:01\r\u001b[K     |█████████████████████▏          | 102kB 2.8MB/s eta 0:00:01\r\u001b[K     |███████████████████████▎        | 112kB 2.8MB/s eta 0:00:01\r\u001b[K     |█████████████████████████▍      | 122kB 2.8MB/s eta 0:00:01\r\u001b[K     |███████████████████████████▌    | 133kB 2.8MB/s eta 0:00:01\r\u001b[K     |█████████████████████████████▋  | 143kB 2.8MB/s eta 0:00:01\r\u001b[K     |███████████████████████████████▊| 153kB 2.8MB/s eta 0:00:01\r\u001b[K     |████████████████████████████████| 163kB 2.8MB/s \n",
            "\u001b[?25hInstalling collected packages: nose\n",
            "Successfully installed nose-1.3.7\n"
          ],
          "name": "stdout"
        },
        {
          "output_type": "error",
          "ename": "FileNotFoundError",
          "evalue": "ignored",
          "traceback": [
            "\u001b[0;31m---------------------------------------------------------------------------\u001b[0m",
            "\u001b[0;31mFileNotFoundError\u001b[0m                         Traceback (most recent call last)",
            "\u001b[0;32m<ipython-input-11-08f66406059e>\u001b[0m in \u001b[0;36m<module>\u001b[0;34m()\u001b[0m\n\u001b[1;32m      4\u001b[0m \u001b[0;32mfrom\u001b[0m \u001b[0mnose\u001b[0m\u001b[0;34m.\u001b[0m\u001b[0mtools\u001b[0m \u001b[0;32mimport\u001b[0m \u001b[0massert_equal\u001b[0m\u001b[0;34m\u001b[0m\u001b[0;34m\u001b[0m\u001b[0m\n\u001b[1;32m      5\u001b[0m \u001b[0;34m\u001b[0m\u001b[0m\n\u001b[0;32m----> 6\u001b[0;31m \u001b[0mG\u001b[0m \u001b[0;34m=\u001b[0m \u001b[0mnx\u001b[0m\u001b[0;34m.\u001b[0m\u001b[0mread_gexf\u001b[0m\u001b[0;34m(\u001b[0m\u001b[0;34m'graph_0005_01234.gexf'\u001b[0m\u001b[0;34m,\u001b[0m \u001b[0mnode_type\u001b[0m\u001b[0;34m=\u001b[0m\u001b[0mint\u001b[0m\u001b[0;34m)\u001b[0m\u001b[0;34m\u001b[0m\u001b[0;34m\u001b[0m\u001b[0m\n\u001b[0m\u001b[1;32m      7\u001b[0m \u001b[0massert_equal\u001b[0m\u001b[0;34m(\u001b[0m\u001b[0mk_centers_objective_value\u001b[0m\u001b[0;34m(\u001b[0m\u001b[0mG\u001b[0m\u001b[0;34m,\u001b[0m \u001b[0;34m[\u001b[0m\u001b[0;36m0\u001b[0m\u001b[0;34m,\u001b[0m \u001b[0;36m1\u001b[0m\u001b[0;34m]\u001b[0m\u001b[0;34m)\u001b[0m\u001b[0;34m,\u001b[0m \u001b[0;36m156\u001b[0m\u001b[0;34m)\u001b[0m\u001b[0;34m\u001b[0m\u001b[0;34m\u001b[0m\u001b[0m\n\u001b[1;32m      8\u001b[0m \u001b[0massert_equal\u001b[0m\u001b[0;34m(\u001b[0m\u001b[0mk_centers_objective_value\u001b[0m\u001b[0;34m(\u001b[0m\u001b[0mG\u001b[0m\u001b[0;34m,\u001b[0m \u001b[0;34m[\u001b[0m\u001b[0;36m0\u001b[0m\u001b[0;34m,\u001b[0m \u001b[0;36m1\u001b[0m\u001b[0;34m,\u001b[0m \u001b[0;36m2\u001b[0m\u001b[0;34m]\u001b[0m\u001b[0;34m)\u001b[0m\u001b[0;34m,\u001b[0m \u001b[0;36m130\u001b[0m\u001b[0;34m)\u001b[0m\u001b[0;34m\u001b[0m\u001b[0;34m\u001b[0m\u001b[0m\n",
            "\u001b[0;32m<decorator-gen-786>\u001b[0m in \u001b[0;36mread_gexf\u001b[0;34m(path, node_type, relabel, version)\u001b[0m\n",
            "\u001b[0;32m/usr/local/lib/python3.6/dist-packages/networkx/utils/decorators.py\u001b[0m in \u001b[0;36m_open_file\u001b[0;34m(func_to_be_decorated, *args, **kwargs)\u001b[0m\n\u001b[1;32m    212\u001b[0m         \u001b[0;32mif\u001b[0m \u001b[0mis_string_like\u001b[0m\u001b[0;34m(\u001b[0m\u001b[0mpath\u001b[0m\u001b[0;34m)\u001b[0m\u001b[0;34m:\u001b[0m\u001b[0;34m\u001b[0m\u001b[0;34m\u001b[0m\u001b[0m\n\u001b[1;32m    213\u001b[0m             \u001b[0mext\u001b[0m \u001b[0;34m=\u001b[0m \u001b[0msplitext\u001b[0m\u001b[0;34m(\u001b[0m\u001b[0mpath\u001b[0m\u001b[0;34m)\u001b[0m\u001b[0;34m[\u001b[0m\u001b[0;36m1\u001b[0m\u001b[0;34m]\u001b[0m\u001b[0;34m\u001b[0m\u001b[0;34m\u001b[0m\u001b[0m\n\u001b[0;32m--> 214\u001b[0;31m             \u001b[0mfobj\u001b[0m \u001b[0;34m=\u001b[0m \u001b[0m_dispatch_dict\u001b[0m\u001b[0;34m[\u001b[0m\u001b[0mext\u001b[0m\u001b[0;34m]\u001b[0m\u001b[0;34m(\u001b[0m\u001b[0mpath\u001b[0m\u001b[0;34m,\u001b[0m \u001b[0mmode\u001b[0m\u001b[0;34m=\u001b[0m\u001b[0mmode\u001b[0m\u001b[0;34m)\u001b[0m\u001b[0;34m\u001b[0m\u001b[0;34m\u001b[0m\u001b[0m\n\u001b[0m\u001b[1;32m    215\u001b[0m             \u001b[0mclose_fobj\u001b[0m \u001b[0;34m=\u001b[0m \u001b[0;32mTrue\u001b[0m\u001b[0;34m\u001b[0m\u001b[0;34m\u001b[0m\u001b[0m\n\u001b[1;32m    216\u001b[0m         \u001b[0;32melif\u001b[0m \u001b[0mhasattr\u001b[0m\u001b[0;34m(\u001b[0m\u001b[0mpath\u001b[0m\u001b[0;34m,\u001b[0m \u001b[0;34m'read'\u001b[0m\u001b[0;34m)\u001b[0m\u001b[0;34m:\u001b[0m\u001b[0;34m\u001b[0m\u001b[0;34m\u001b[0m\u001b[0m\n",
            "\u001b[0;31mFileNotFoundError\u001b[0m: [Errno 2] No such file or directory: 'graph_0005_01234.gexf'"
          ]
        }
      ]
    },
    {
      "cell_type": "code",
      "metadata": {
        "deletable": false,
        "nbgrader": {
          "cell_type": "code",
          "checksum": "dadd964c024a7d68f49d5ea16a7c8c93",
          "grade": false,
          "grade_id": "cell-f675ec578a721b03",
          "locked": false,
          "schema_version": 3,
          "solution": true,
          "task": false
        },
        "id": "sk3GPpjreO0i"
      },
      "source": [
        "# Να συμπληρώσετε τον κώδικα της συνάρτησης k_centers_brute_force(G, k) ώστε να υπολογίζει \n",
        "# με brute force τρόπο τη βέλτιστη λύση μεγέθους k για τον γράφο G. \n",
        "# Η συνάρτηση να επιστρέφει το κόστος και τη λίστα των centers της βέλτισης λύσης.\n",
        "\n",
        "def k_centers_brute_force(G, k):\n",
        "    V = G.nodes\n",
        "    comb = itertools.combinations(V, k)\n",
        "    min_score = 100000\n",
        "    for c in comb:\n",
        "        score = k_centers_objective_value(G, c)\n",
        "        if score < min_score:\n",
        "            min_score = score;\n",
        "            best_comb = c\n",
        "    return  min_score,list(best_comb)"
      ],
      "execution_count": null,
      "outputs": []
    },
    {
      "cell_type": "code",
      "metadata": {
        "deletable": false,
        "editable": false,
        "nbgrader": {
          "cell_type": "code",
          "checksum": "0500c56e1fe2b0d3a13944931bc964f1",
          "grade": true,
          "grade_id": "cell-f311e8c2e44a1410",
          "locked": true,
          "points": 10,
          "schema_version": 3,
          "solution": false,
          "task": false
        },
        "id": "CJeV-d6PeO0k"
      },
      "source": [
        "# Έλεγχος και αξιολόγηση της απάντησης. Μην κάνετε αλλαγές στο κελί αυτό.\n",
        "\n",
        "G = nx.read_gexf('graph_0005_01234.gexf', node_type=int)\n",
        "assert_equal(k_centers_brute_force(G, 2), (152, [0,3]))\n",
        "\n",
        "G = nx.read_gexf('graph_0010_01234.gexf', node_type=int)\n",
        "assert_equal(k_centers_brute_force(G, 2), (263, [0,8]))\n"
      ],
      "execution_count": null,
      "outputs": []
    },
    {
      "cell_type": "markdown",
      "metadata": {
        "deletable": false,
        "editable": false,
        "nbgrader": {
          "cell_type": "markdown",
          "checksum": "66b1d6359c13fd985ff32b9c77dd0226",
          "grade": false,
          "grade_id": "cell-26f1506766961fe2",
          "locked": true,
          "schema_version": 3,
          "solution": false,
          "task": false
        },
        "id": "zsySs7YreO0m"
      },
      "source": [
        "Ερώτημα Α.2) Να εφαρμόσετε τον “brute force” αλγόριθμο για την εύρεση της βέλτιστης λύσης \n",
        "των στιγμιοτύπων με k=3 στους γράφους\n",
        "graph_0005_01234.gexf, graph_0010_01234.gexf, graph_0020_01234.gexf και graph_0050_01234.gexf. \n",
        "Να μετρήσετε τον χρόνο εκτέλεσης του αλγορίθμου για κάθε περίπτωση και να απεικονίσετε τους \n",
        "χρόνους σε γραφική παράσταση. Στον άξονα των x να υπάρχει το πλήθος των κόμβων του γράφου."
      ]
    },
    {
      "cell_type": "code",
      "metadata": {
        "deletable": false,
        "nbgrader": {
          "cell_type": "code",
          "checksum": "000d7e2f5cfa632383fe7059fbb71b8f",
          "grade": true,
          "grade_id": "cell-c7a2aab0f78bd2d9",
          "locked": false,
          "points": 10,
          "schema_version": 3,
          "solution": true,
          "task": false
        },
        "id": "X-z7YqEceO0n",
        "outputId": "5f60ff75-c5cf-42dd-d853-2b93ab51c44c",
        "colab": {
          "base_uri": "https://localhost:8080/",
          "height": 564
        }
      },
      "source": [
        "# Α.2 Εκτέλεση αλγορίθμων και γραφική παράσταση χρόνων εκτέλεσης \n",
        "# Να συμπληρώσετε τον παρακάτω κώδικα.\n",
        "\n",
        "k = 3\n",
        "paths = ['graph_0005_01234.gexf', 'graph_0010_01234.gexf', 'graph_0020_01234.gexf',\n",
        "         'graph_0050_01234.gexf']\n",
        "execution_times = []\n",
        "scores = []\n",
        "for p in paths:\n",
        "    start = default_timer()\n",
        "    print('Graph: ' + p)\n",
        "    G = nx.read_gexf(p, node_type=int)\n",
        "    best_comb, min_score = brute_force(G, k)\n",
        "    end = default_timer()\n",
        "    execution_time = end - start\n",
        "    execution_times.append(execution_time)\n",
        "    scores.append(min_score)\n",
        "    print('Execution time: ', execution_time)\n",
        "    print('Best score: ', min_score)\n",
        "    print('Best comb: ', best_comb)\n",
        "    # draw_k_centers_graph(G, best_comb)\n",
        "\n",
        "# Γραφική παράσταση\n",
        "x = [5, 10, 20, 50]\n",
        "plt.xlabel('Nodes')\n",
        "plt.ylabel('Time in seconds')\n",
        "plt.title('Execution times')\n",
        "plt.plot(x, execution_times)\n",
        "plt.show()"
      ],
      "execution_count": null,
      "outputs": [
        {
          "output_type": "stream",
          "text": [
            "Graph: graph_0005_01234.gexf\n",
            "Execution time:  0.0008140940001339914\n",
            "Best score:  130.0\n",
            "Best comb:  (0, 1, 2)\n",
            "Graph: graph_0010_01234.gexf\n",
            "Execution time:  0.00645122200012338\n",
            "Best score:  201.0\n",
            "Best comb:  (1, 2, 7)\n",
            "Graph: graph_0020_01234.gexf\n",
            "Execution time:  0.08217641999999614\n",
            "Best score:  390.0\n",
            "Best comb:  (13, 16, 18)\n",
            "Graph: graph_0050_01234.gexf\n",
            "Execution time:  3.5394386299999496\n",
            "Best score:  639.0\n",
            "Best comb:  (5, 14, 48)\n"
          ],
          "name": "stdout"
        },
        {
          "output_type": "display_data",
          "data": {
            "image/png": "[encoded data removed]",
            "text/plain": [
              "<Figure size 432x288 with 1 Axes>"
            ]
          },
          "metadata": {
            "tags": [],
            "needs_background": "light"
          }
        }
      ]
    },
    {
      "cell_type": "markdown",
      "metadata": {
        "deletable": false,
        "editable": false,
        "nbgrader": {
          "cell_type": "markdown",
          "checksum": "c16f403efdf105edad0fb3be36e0a7e4",
          "grade": false,
          "grade_id": "cell-0f5bed284e4346a8",
          "locked": true,
          "schema_version": 3,
          "solution": false,
          "task": false
        },
        "id": "jUyBqJiBeO0q"
      },
      "source": [
        "Ερώτημα Α.3) Να εφαρμόσετε τον “brute force” αλγόριθμο για την εύρεση της βέλτιστης λύσης των στιγμιοτύπων graph_0030_01234.gexf για τις τιμές\n",
        "k=2, k=3, k=4 και k=5. Να μετρήσετε τον χρόνο εκτέλεσης του αλγορίθμου για κάθε περίπτωση, να τυπώσετε τους χρόνους εκτέλεσης και τους απεικονίσετε σε γραφική παράσταση. Στον άξονα των x να υπάρχουν οι τιμές του k."
      ]
    },
    {
      "cell_type": "code",
      "metadata": {
        "deletable": false,
        "nbgrader": {
          "cell_type": "code",
          "checksum": "49b7373e598b32251efef98c794402a7",
          "grade": true,
          "grade_id": "cell-28c5b4104dfa59ec",
          "locked": false,
          "points": 10,
          "schema_version": 3,
          "solution": true,
          "task": false
        },
        "id": "U-6ioGFjeO0q",
        "outputId": "cc8dff77-7df0-4d39-f4f9-869bef4b9d8f",
        "colab": {
          "base_uri": "https://localhost:8080/",
          "height": 430
        }
      },
      "source": [
        "# Α.3 Εκτέλεση αλγορίθμων και γραφική παράσταση χρόνων εκτέλεσης \n",
        "# Να συμπληρώσετε τον παρακάτω κώδικα.\n",
        "\n",
        "G = nx.read_gexf('graph_0030_01234.gexf', node_type=int)\n",
        "execution_times = []\n",
        "for k in range(2, 6):\n",
        "    start = default_timer()\n",
        "    print('k =  ' + str(k))\n",
        "    best_comb, min_score = brute_force(G, k)\n",
        "    end = default_timer()\n",
        "    execution_time = end - start\n",
        "    execution_times.append(execution_time)\n",
        "    print('Execution time: ', execution_time)\n",
        "\n",
        "# Γραφική παράσταση\n",
        "x = [2, 3, 4, 5]\n",
        "plt.xlabel('k')\n",
        "plt.ylabel('Time in seconds')\n",
        "plt.title('Execution times')\n",
        "plt.plot(x, execution_times)\n",
        "plt.show()"
      ],
      "execution_count": null,
      "outputs": [
        {
          "output_type": "stream",
          "text": [
            "k =  2\n",
            "Execution time:  0.036361707999958526\n",
            "k =  3\n",
            "Execution time:  0.4188043359999938\n",
            "k =  4\n",
            "Execution time:  3.5050607979999313\n",
            "k =  5\n",
            "Execution time:  21.633297730999857\n"
          ],
          "name": "stdout"
        },
        {
          "output_type": "display_data",
          "data": {
            "image/png": "[encoded data removed]",
            "text/plain": [
              "<Figure size 432x288 with 1 Axes>"
            ]
          },
          "metadata": {
            "tags": [],
            "needs_background": "light"
          }
        }
      ]
    },
    {
      "cell_type": "markdown",
      "metadata": {
        "deletable": false,
        "editable": false,
        "nbgrader": {
          "cell_type": "markdown",
          "checksum": "f0357cb40c409b2b28a3ba43d041a048",
          "grade": false,
          "grade_id": "cell-f818c05189cdf374",
          "locked": true,
          "schema_version": 3,
          "solution": false,
          "task": false
        },
        "id": "0RCEr8wEeO0s"
      },
      "source": [
        "Ερώτημα Α.4) Χρησιμοποιώντας τον brute force αλγόριθμο ή παραλλαγή του, να βρείτε όσο μπορείτε καλύτερες λύσεις για τα στιγμιότυπα\n",
        "graph_0146_01234.gexf με k = 13 και \n",
        "graph_0500_01234.gexf με k = 13."
      ]
    },
    {
      "cell_type": "code",
      "metadata": {
        "deletable": false,
        "nbgrader": {
          "cell_type": "code",
          "checksum": "115c437288cb7f3f15875ee43674f98b",
          "grade": true,
          "grade_id": "cell-6ffb681959ba83c4",
          "locked": false,
          "points": 10,
          "schema_version": 3,
          "solution": true,
          "task": false
        },
        "id": "rWu7QqLoeO0t",
        "outputId": "36986cc7-deaa-446f-9dc5-d8968cc5e31c",
        "colab": {
          "base_uri": "https://localhost:8080/",
          "height": 1000
        }
      },
      "source": [
        "# Α.4\n",
        "# Να συμπληρώσετε τον παρακάτω κώδικα.\n",
        "\n",
        "def ran_comb(k, max):\n",
        "    comb = []\n",
        "    i = 0\n",
        "    while i < k:\n",
        "        ran = random.randint(0, max)\n",
        "        if ran not in comb:\n",
        "            comb.append(ran)\n",
        "            i += 1\n",
        "    return comb\n",
        "\n",
        "def k_center_brute_force_based(G, k, max_iterations):\n",
        "  start = default_timer()\n",
        "\n",
        "  min_score = 100000\n",
        "  i = 0\n",
        "  max_center = len(G) - 1\n",
        "  changed = k -1\n",
        "  final_score = 10000\n",
        "  progress = False\n",
        "  my_comb = ran_comb(k, max_center - 1)\n",
        "  # my_comb = [150, 484, 29, 234, 92, 309, 475, 472, 494, 316, 454, 178, 8]  # 500 -> 1785\n",
        "  # my_comb = [67, 135, 124, 119, 121, 80, 33, 56, 31, 82, 55, 64, 70]  # 146 -> 677\n",
        "  min_score = k_centers_objective_value(G, my_comb)\n",
        "  print('Starting with score ', min_score)\n",
        "  rounds = 0\n",
        "  for iterations in range(max_iterations):\n",
        "      if changed == i:\n",
        "          rounds += 1\n",
        "          print('Round: ' + str(rounds) + ' with score: ' + str(min_score))\n",
        "          if min_score < final_score:\n",
        "              final_score = min_score\n",
        "              final_comb = best_comb.copy()\n",
        "          if rounds > 1:\n",
        "              print('Found local minimum. Best score yet is ', final_score)\n",
        "              print('Best combination: ', final_comb)\n",
        "              print('Trying new combination ..')\n",
        "              my_comb = ran_comb(k, max_center - 1)\n",
        "              rounds = 0\n",
        "              min_score = 10000\n",
        "      prev_comb = my_comb.copy()\n",
        "      for j in range(0, max_center):\n",
        "          center = j\n",
        "          if center not in my_comb:\n",
        "              my_comb[i] = center\n",
        "          score = k_centers_objective_value(G, my_comb)\n",
        "          if score < min_score:\n",
        "              # print('New best score: ', score)\n",
        "              min_score = score\n",
        "              best_comb = my_comb.copy()\n",
        "              changed = i\n",
        "              progress = True\n",
        "              break\n",
        "      if not progress:\n",
        "          my_comb = prev_comb.copy()\n",
        "      i += 1\n",
        "      if i > 12:\n",
        "          i = 0\n",
        "      progress = False\n",
        "\n",
        "  end = default_timer()\n",
        "  execution_time = end - start\n",
        "  print('Execution time: ', execution_time)\n",
        "  print('Best comb ', final_comb)\n",
        "  print('Best Score: ', final_score)\n",
        "\n",
        "k = 13\n",
        "G = nx.read_gexf('graph_0146_01234.gexf', node_type=int)\n",
        "k_center_brute_force_based(G,k,1000)\n",
        "G = nx.read_gexf('graph_0500_01234.gexf', node_type=int)\n",
        "k_center_brute_force_based(G,k,1000)"
      ],
      "execution_count": null,
      "outputs": [
        {
          "output_type": "stream",
          "text": [
            "Starting with score  1133.0\n",
            "Round: 1 with score: 737.0\n",
            "Round: 2 with score: 737.0\n",
            "Round: 3 with score: 737.0\n",
            "Found local minimum. Best score yet is  737.0\n",
            "Best combination:  [31, 2, 10, 134, 5, 59, 17, 123, 41, 70, 20, 80, 4]\n",
            "Trying new combination ..\n",
            "Round: 1 with score: 829.0\n",
            "Round: 2 with score: 829.0\n",
            "Round: 3 with score: 829.0\n",
            "Found local minimum. Best score yet is  737.0\n",
            "Best combination:  [31, 2, 10, 134, 5, 59, 17, 123, 41, 70, 20, 80, 4]\n",
            "Trying new combination ..\n",
            "Round: 1 with score: 804.0\n",
            "Round: 2 with score: 804.0\n",
            "Round: 3 with score: 804.0\n",
            "Found local minimum. Best score yet is  737.0\n",
            "Best combination:  [31, 2, 10, 134, 5, 59, 17, 123, 41, 70, 20, 80, 4]\n",
            "Trying new combination ..\n",
            "Round: 1 with score: 782.0\n",
            "Round: 2 with score: 782.0\n",
            "Round: 3 with score: 782.0\n",
            "Found local minimum. Best score yet is  737.0\n",
            "Best combination:  [31, 2, 10, 134, 5, 59, 17, 123, 41, 70, 20, 80, 4]\n",
            "Trying new combination ..\n",
            "Round: 1 with score: 759.0\n",
            "Round: 2 with score: 759.0\n",
            "Round: 3 with score: 759.0\n",
            "Found local minimum. Best score yet is  737.0\n",
            "Best combination:  [31, 2, 10, 134, 5, 59, 17, 123, 41, 70, 20, 80, 4]\n",
            "Trying new combination ..\n",
            "Round: 1 with score: 811.0\n",
            "Round: 2 with score: 811.0\n",
            "Round: 3 with score: 811.0\n",
            "Found local minimum. Best score yet is  737.0\n",
            "Best combination:  [31, 2, 10, 134, 5, 59, 17, 123, 41, 70, 20, 80, 4]\n",
            "Trying new combination ..\n",
            "Round: 1 with score: 797.0\n",
            "Round: 2 with score: 797.0\n",
            "Round: 3 with score: 797.0\n",
            "Found local minimum. Best score yet is  737.0\n",
            "Best combination:  [31, 2, 10, 134, 5, 59, 17, 123, 41, 70, 20, 80, 4]\n",
            "Trying new combination ..\n",
            "Round: 1 with score: 762.0\n",
            "Round: 2 with score: 762.0\n",
            "Round: 3 with score: 762.0\n",
            "Found local minimum. Best score yet is  737.0\n",
            "Best combination:  [31, 2, 10, 134, 5, 59, 17, 123, 41, 70, 20, 80, 4]\n",
            "Trying new combination ..\n",
            "Round: 1 with score: 811.0\n",
            "Round: 2 with score: 811.0\n",
            "Round: 3 with score: 811.0\n",
            "Found local minimum. Best score yet is  737.0\n",
            "Best combination:  [31, 2, 10, 134, 5, 59, 17, 123, 41, 70, 20, 80, 4]\n",
            "Trying new combination ..\n",
            "Round: 1 with score: 806.0\n",
            "Round: 2 with score: 806.0\n",
            "Round: 3 with score: 806.0\n",
            "Found local minimum. Best score yet is  737.0\n",
            "Best combination:  [31, 2, 10, 134, 5, 59, 17, 123, 41, 70, 20, 80, 4]\n",
            "Trying new combination ..\n",
            "Round: 1 with score: 797.0\n",
            "Round: 2 with score: 797.0\n",
            "Round: 3 with score: 797.0\n",
            "Found local minimum. Best score yet is  737.0\n",
            "Best combination:  [31, 2, 10, 134, 5, 59, 17, 123, 41, 70, 20, 80, 4]\n",
            "Trying new combination ..\n",
            "Round: 1 with score: 796.0\n",
            "Round: 2 with score: 796.0\n",
            "Round: 3 with score: 796.0\n",
            "Found local minimum. Best score yet is  737.0\n",
            "Best combination:  [31, 2, 10, 134, 5, 59, 17, 123, 41, 70, 20, 80, 4]\n",
            "Trying new combination ..\n",
            "Round: 1 with score: 802.0\n",
            "Round: 2 with score: 802.0\n",
            "Round: 3 with score: 802.0\n",
            "Found local minimum. Best score yet is  737.0\n",
            "Best combination:  [31, 2, 10, 134, 5, 59, 17, 123, 41, 70, 20, 80, 4]\n",
            "Trying new combination ..\n",
            "Round: 1 with score: 802.0\n",
            "Execution time:  262.99973706399993\n",
            "Best comb  [31, 2, 10, 134, 5, 59, 17, 123, 41, 70, 20, 80, 4]\n",
            "Best Score:  737.0\n",
            "Starting with score  3759.0\n",
            "Round: 1 with score: 1893.0\n",
            "Round: 2 with score: 1893.0\n",
            "Round: 3 with score: 1893.0\n",
            "Found local minimum. Best score yet is  1893.0\n",
            "Best combination:  [2, 70, 18, 5, 208, 28, 22, 51, 14, 114, 29, 27, 130]\n",
            "Trying new combination ..\n",
            "Round: 1 with score: 1863.0\n",
            "Round: 2 with score: 1863.0\n",
            "Round: 3 with score: 1863.0\n",
            "Found local minimum. Best score yet is  1863.0\n",
            "Best combination:  [162, 178, 27, 208, 183, 102, 29, 75, 90, 32, 33, 79, 41]\n",
            "Trying new combination ..\n",
            "Round: 1 with score: 1882.0\n",
            "Round: 2 with score: 1882.0\n",
            "Round: 3 with score: 1882.0\n",
            "Found local minimum. Best score yet is  1863.0\n",
            "Best combination:  [162, 178, 27, 208, 183, 102, 29, 75, 90, 32, 33, 79, 41]\n",
            "Trying new combination ..\n",
            "Round: 1 with score: 1924.0\n",
            "Round: 2 with score: 1924.0\n",
            "Round: 3 with score: 1924.0\n",
            "Found local minimum. Best score yet is  1863.0\n",
            "Best combination:  [162, 178, 27, 208, 183, 102, 29, 75, 90, 32, 33, 79, 41]\n",
            "Trying new combination ..\n",
            "Round: 1 with score: 1802.0\n",
            "Round: 2 with score: 1802.0\n",
            "Round: 3 with score: 1802.0\n",
            "Found local minimum. Best score yet is  1802.0\n",
            "Best combination:  [164, 8, 162, 493, 435, 406, 14, 278, 64, 353, 16, 4, 433]\n",
            "Trying new combination ..\n",
            "Round: 1 with score: 1833.0\n",
            "Round: 2 with score: 1833.0\n",
            "Round: 3 with score: 1833.0\n",
            "Found local minimum. Best score yet is  1802.0\n",
            "Best combination:  [164, 8, 162, 493, 435, 406, 14, 278, 64, 353, 16, 4, 433]\n",
            "Trying new combination ..\n",
            "Round: 1 with score: 1954.0\n",
            "Round: 2 with score: 1930.0\n",
            "Round: 3 with score: 1906.0\n",
            "Found local minimum. Best score yet is  1802.0\n",
            "Best combination:  [164, 8, 162, 493, 435, 406, 14, 278, 64, 353, 16, 4, 433]\n",
            "Trying new combination ..\n",
            "Round: 1 with score: 1860.0\n",
            "Round: 2 with score: 1860.0\n",
            "Round: 3 with score: 1860.0\n",
            "Found local minimum. Best score yet is  1802.0\n",
            "Best combination:  [164, 8, 162, 493, 435, 406, 14, 278, 64, 353, 16, 4, 433]\n",
            "Trying new combination ..\n",
            "Round: 1 with score: 1899.0\n",
            "Round: 2 with score: 1882.0\n",
            "Round: 3 with score: 1882.0\n",
            "Found local minimum. Best score yet is  1802.0\n",
            "Best combination:  [164, 8, 162, 493, 435, 406, 14, 278, 64, 353, 16, 4, 433]\n",
            "Trying new combination ..\n",
            "Execution time:  4133.672262189\n",
            "Best comb  [164, 8, 162, 493, 435, 406, 14, 278, 64, 353, 16, 4, 433]\n",
            "Best Score:  1802.0\n"
          ],
          "name": "stdout"
        }
      ]
    },
    {
      "cell_type": "markdown",
      "metadata": {
        "deletable": false,
        "editable": false,
        "nbgrader": {
          "cell_type": "markdown",
          "checksum": "44875334b072a6ee44c7bd19dd27dcea",
          "grade": false,
          "grade_id": "cell-72c8e6b69bf5dd05",
          "locked": true,
          "schema_version": 3,
          "solution": false,
          "task": false
        },
        "id": "IWNDXtjFeO0v"
      },
      "source": [
        "### Περιγραφή: Να δώσετε μια σύντομη περιγραφή της παραλλαγής του Brute-force που αναπτύξατε για το ερώτημα Α.4."
      ]
    },
    {
      "cell_type": "markdown",
      "metadata": {
        "deletable": false,
        "nbgrader": {
          "cell_type": "markdown",
          "checksum": "8fd4a8fa23dd35b984d409d34e90077f",
          "grade": true,
          "grade_id": "cell-e577a3b1f8df14d7",
          "locked": false,
          "points": 10,
          "schema_version": 3,
          "solution": true,
          "task": false
        },
        "id": "PXfC0fC6eO0x"
      },
      "source": [
        "Ο αλγόριθμος ξεκινάει με ένα τυχαίο σετ κέντρων και προσπαθεί να βρεί το καλύτερο σκορ αλλάζοντας ένα κέντρο κάθε φορά. Δοκιμάζει να αλλάξει ένα κέντρο από το σετ κάθε φορά, τοποθετώντας όλους τους δυνατούς κόμβους στη θέση του. Αν βρει καλύτερο σκορ αλλάζει το κέντρο και συνεχίζει δοκιμάζοντας να αλλάξει άλλο κεντρο. Όταν δοκιμάσει να αλλάξει όλοα τα κέντρα ανεπυτυχώς τότε θεωρούμε πως πέρασε ένας γύρος. Στους 2 γύρους σταματάμε την προσπάθεια θεωρώντας ότι βρήκαμε το τοπικό ελάχιστο και ξεκινάμε με καινούργιο τυχαίο σετ.\n",
        "Για να μην τρέχει επ αόριστον βάζουμε ένα όριο max_iterations."
      ]
    },
    {
      "cell_type": "markdown",
      "metadata": {
        "deletable": false,
        "editable": false,
        "nbgrader": {
          "cell_type": "markdown",
          "checksum": "a4724c27b8ced076c2b46da41d11b5fe",
          "grade": false,
          "grade_id": "cell-b8239093a3428578",
          "locked": true,
          "schema_version": 3,
          "solution": false,
          "task": false
        },
        "id": "sJVzhlS9eO0x"
      },
      "source": [
        "## Ερώτημα B: Greedy Algorithm"
      ]
    },
    {
      "cell_type": "markdown",
      "metadata": {
        "deletable": false,
        "editable": false,
        "nbgrader": {
          "cell_type": "markdown",
          "checksum": "c2a9dff2232c4eb75e50155b5de605f7",
          "grade": false,
          "grade_id": "cell-398ad982aef9441f",
          "locked": true,
          "schema_version": 3,
          "solution": false,
          "task": false
        },
        "id": "JHg9oHJTeO0x"
      },
      "source": [
        "### Ερώτημα Β.1) Να υλοποιήσετε τον “greedy” αλγόριθμο από το βιβλίο Σχεδίαση Αλγορίθμων, Ενότητα 11.2"
      ]
    },
    {
      "cell_type": "code",
      "metadata": {
        "deletable": false,
        "nbgrader": {
          "cell_type": "code",
          "checksum": "77a1ab6cdda4e72772883eda207553e6",
          "grade": false,
          "grade_id": "cell-7ad6284b0c671541",
          "locked": false,
          "schema_version": 3,
          "solution": true,
          "task": false
        },
        "id": "zwLDf9oneO0y"
      },
      "source": [
        "def k_centers_greedy(G, k, first_center=None, seed=None):\n",
        "    distance_from_centers = {}\n",
        "    centers = []\n",
        "    if first_center == None:\n",
        "      max_center = len(G) - 1\n",
        "      first_center = random.randint(0,max_center)\n",
        "    centers.append(first_center)\n",
        "    \n",
        "    while len(centers) < k:\n",
        "        max_dist_from_c = 0\n",
        "        centers_length = len(centers)\n",
        "        if len(centers) > 1:\n",
        "            for node in G:\n",
        "                dist_from_c = []\n",
        "                for c in centers:\n",
        "                    if node == c:\n",
        "                        dist_from_c.append(0)\n",
        "                    else:\n",
        "                        x = int(G[node][c]['weight'])\n",
        "                        dist_from_c.append(x)\n",
        "                min_dist = min(dist_from_c)\n",
        "                if min_dist > max_dist_from_c:\n",
        "                    max_dist_from_c = min_dist\n",
        "                    index = node\n",
        "        else:\n",
        "            max_weight = 0\n",
        "            for n in G:\n",
        "                if n != centers[0]:\n",
        "                    if G[n][centers[0]]['weight'] > max_weight:\n",
        "                        max_weight = G[n][first_center]['weight']\n",
        "                        index = n\n",
        "        centers.append(index) \n",
        "    score = k_centers_objective_value(G, centers)   \n",
        "    # print('centers are: ' + str(centers))\n",
        "    # print('Score: ', score)\n",
        "    return score, centers"
      ],
      "execution_count": null,
      "outputs": []
    },
    {
      "cell_type": "code",
      "metadata": {
        "deletable": false,
        "editable": false,
        "nbgrader": {
          "cell_type": "code",
          "checksum": "2f230fa9da6c13b3e419a57633a92d78",
          "grade": true,
          "grade_id": "cell-9c0cc8d9f7a3af12",
          "locked": true,
          "points": 10,
          "schema_version": 3,
          "solution": false,
          "task": false
        },
        "id": "0yRnq6ZkeO00"
      },
      "source": [
        "# Έλεγχος και αξιολόγηση της απάντησης. Μην κάνετε αλλαγές στο κελί αυτό.\n",
        "\n",
        "G = nx.read_gexf('graph_0020_01234.gexf', node_type=int)\n",
        "assert_equal(k_centers_greedy(G, 3, first_center=5), (471.0, [5, 8, 15]))\n",
        "assert_equal(k_centers_greedy(G, 3, first_center=8), (472.0, [8, 10, 15]))\n",
        "\n"
      ],
      "execution_count": null,
      "outputs": []
    },
    {
      "cell_type": "markdown",
      "metadata": {
        "deletable": false,
        "editable": false,
        "nbgrader": {
          "cell_type": "markdown",
          "checksum": "b3573bb6f0bb7d65af8178a8102364ae",
          "grade": false,
          "grade_id": "cell-3f213a5104548744",
          "locked": true,
          "schema_version": 3,
          "solution": false,
          "task": false
        },
        "id": "cjRFVhoJeO03"
      },
      "source": [
        "2) Να εφαρμόσετε τον “greedy” αλγόριθμο για την εύρεση της βέλτιστης λύσης των στιγμιοτύπων με k=3 στους γράφους\n",
        "graph_0005_01234.gexf, graph_0010_01234.gexf, graph_0020_01234.gexf και graph_0050_01234.gexf. Να μετρήσετε τον χρόνο εκτέλεσης του αλγορίθμου για κάθε περίπτωση και να απεικονίσετε τους χρόνους σε γραφική παράσταση. Στον άξονα των x να υπάρχει το πλήθος των κόμβων του γράφου."
      ]
    },
    {
      "cell_type": "code",
      "metadata": {
        "deletable": false,
        "nbgrader": {
          "cell_type": "code",
          "checksum": "d6ab55dfc6d33d0cd8b58d0f112575d0",
          "grade": true,
          "grade_id": "cell-77556920788ccbfe",
          "locked": false,
          "points": 10,
          "schema_version": 3,
          "solution": true,
          "task": false
        },
        "id": "M2K9cKfHeO04",
        "outputId": "fec3d547-45d4-46fe-ac6e-8757bdbca457",
        "colab": {
          "base_uri": "https://localhost:8080/",
          "height": 564
        }
      },
      "source": [
        "# Β.2 Εκτέλεση αλγορίθμων και γραφική παράσταση χρόνων εκτέλεσης \n",
        "execution_times = []\n",
        "k = 3\n",
        "paths = ['graph_0005_01234.gexf','graph_0010_01234.gexf','graph_0020_01234.gexf','graph_0050_01234.gexf']\n",
        "for path in paths:\n",
        "    start = default_timer()\n",
        "    G = nx.read_gexf(path, node_type=int)\n",
        "    k_centers_greedy(G, k)\n",
        "    end = default_timer()\n",
        "    execution_time = end - start\n",
        "    execution_times.append(execution_time)\n",
        "\n",
        "# Γραφική παράσταση\n",
        "x = [5, 10, 20, 50]\n",
        "\n",
        "plt.xlabel('x - axis')\n",
        "plt.ylabel('y - axis')\n",
        "plt.title('Execution times')\n",
        "plt.plot(x, execution_times)\n",
        "plt.show()"
      ],
      "execution_count": null,
      "outputs": [
        {
          "output_type": "stream",
          "text": [
            "1\n",
            "2\n",
            "centers are: [1, 0, 2]\n",
            "Score:  130.0\n",
            "1\n",
            "2\n",
            "centers are: [8, 0, 2]\n",
            "Score:  257.0\n",
            "1\n",
            "2\n",
            "centers are: [10, 1, 9]\n",
            "Score:  506.0\n",
            "1\n",
            "2\n",
            "centers are: [13, 21, 11]\n",
            "Score:  907.0\n"
          ],
          "name": "stdout"
        },
        {
          "output_type": "display_data",
          "data": {
            "image/png": "[encoded data removed]",
            "text/plain": [
              "<Figure size 432x288 with 1 Axes>"
            ]
          },
          "metadata": {
            "tags": [],
            "needs_background": "light"
          }
        }
      ]
    },
    {
      "cell_type": "markdown",
      "metadata": {
        "deletable": false,
        "editable": false,
        "nbgrader": {
          "cell_type": "markdown",
          "checksum": "a928f362247e80872d41bf0aeb310abe",
          "grade": false,
          "grade_id": "cell-7e62e282499d1593",
          "locked": true,
          "schema_version": 3,
          "solution": false,
          "task": false
        },
        "id": "POYo6kYPeO06"
      },
      "source": [
        "3) Να εφαρμόσετε τον “greedy” αλγόριθμο για την εύρεση της βέλτιστης λύσης των στιγμιοτύπων graph_0030_01234.gexf για τις τιμές\n",
        "k=2, k=3, k=4 και k=5. Να μετρήσετε τον χρόνο εκτέλεσης του αλγορίθμου για κάθε περίπτωση, να τυπώσετε τους χρόνους εκτέλεσης και τους απεικονίσετε σε γραφική παράσταση. Στον άξονα των x να υπάρχουν οι τιμές του k."
      ]
    },
    {
      "cell_type": "code",
      "metadata": {
        "deletable": false,
        "nbgrader": {
          "cell_type": "code",
          "checksum": "e1b46ac443a6e91587b9f1fcf9892008",
          "grade": true,
          "grade_id": "cell-ca90b6263771ba04",
          "locked": false,
          "points": 10,
          "schema_version": 3,
          "solution": true,
          "task": false
        },
        "id": "ygQmk5mCeO07",
        "outputId": "9fdf0175-389d-4370-c123-dd2a803e19ae",
        "colab": {
          "base_uri": "https://localhost:8080/",
          "height": 732
        }
      },
      "source": [
        "# Β.3 Εκτέλεση αλγορίθμων και γραφική παράσταση χρόνων εκτέλεσης \n",
        "\n",
        "G = nx.read_gexf('graph_0030_01234.gexf', node_type=int)\n",
        "execution_times = []\n",
        "for k in range(2, 6):\n",
        "    start = default_timer()\n",
        "    print('k =  ' + str(k))\n",
        "    best_comb, min_score = k_centers_greedy(G, k)\n",
        "    end = default_timer()\n",
        "    execution_time = end - start\n",
        "    execution_times.append(execution_time)\n",
        "    print('Execution time: ', execution_time)\n",
        "\n",
        "# Γραφική παράσταση\n",
        "x = [2, 3, 4, 5]\n",
        "plt.xlabel('k')\n",
        "plt.ylabel('Time in seconds')\n",
        "plt.title('Execution times')\n",
        "plt.plot(x, execution_times)\n",
        "plt.show()"
      ],
      "execution_count": null,
      "outputs": [
        {
          "output_type": "stream",
          "text": [
            "k =  2\n",
            "1\n",
            "centers are: [18, 25]\n",
            "Score:  676.0\n",
            "Execution time:  0.00037635199987562373\n",
            "k =  3\n",
            "1\n",
            "2\n",
            "centers are: [13, 0, 25]\n",
            "Score:  619.0\n",
            "Execution time:  0.0005785100001958199\n",
            "k =  4\n",
            "1\n",
            "2\n",
            "3\n",
            "centers are: [6, 5, 2, 28]\n",
            "Score:  574.0\n",
            "Execution time:  0.0009313430000474909\n",
            "k =  5\n",
            "1\n",
            "2\n",
            "3\n",
            "4\n",
            "centers are: [28, 3, 21, 2, 0]\n",
            "Score:  471.0\n",
            "Execution time:  0.002354180000111228\n"
          ],
          "name": "stdout"
        },
        {
          "output_type": "display_data",
          "data": {
            "image/png": "[encoded data removed]",
            "text/plain": [
              "<Figure size 432x288 with 1 Axes>"
            ]
          },
          "metadata": {
            "tags": [],
            "needs_background": "light"
          }
        }
      ]
    },
    {
      "cell_type": "markdown",
      "metadata": {
        "deletable": false,
        "editable": false,
        "nbgrader": {
          "cell_type": "markdown",
          "checksum": "3bdd4b9df66ddac3963542511c6115e9",
          "grade": false,
          "grade_id": "cell-7652b49c363e94fd",
          "locked": true,
          "schema_version": 3,
          "solution": false,
          "task": false
        },
        "id": "3dXuvG-weO09"
      },
      "source": [
        "4) Χρησιμοποιώντας τον “greedy” αλγόριθμο ή παραλλαγή του, να βρείτε όσο μπορείτε καλύτερες λύσεις για τα στιγμιότυπα\n",
        "graph_0146_01234.gexf με k = 13 και \n",
        "graph_0500_01234.gexf με k = 13."
      ]
    },
    {
      "cell_type": "code",
      "metadata": {
        "deletable": false,
        "nbgrader": {
          "cell_type": "code",
          "checksum": "1b725a3f96fb012d1951cb5a84703e21",
          "grade": true,
          "grade_id": "cell-7adb77e02d3ce4b7",
          "locked": false,
          "points": 10,
          "schema_version": 3,
          "solution": true,
          "task": false
        },
        "id": "HbGYBuBqeO09",
        "outputId": "06ac3053-f36f-428a-c296-57b5e4d3fb31",
        "colab": {
          "base_uri": "https://localhost:8080/",
          "height": 235
        }
      },
      "source": [
        "# python code\n",
        "def k_center_greedy_based(G, k):\n",
        "    best_score = 10000\n",
        "    for i in range(0,len(G)-1):\n",
        "      score, centers = k_centers_greedy(G,k,first_center = i)\n",
        "      if score < best_score:\n",
        "        best_score = score\n",
        "        best_centers = centers.copy()\n",
        "        print('Best score yet: ', score)\n",
        "        print('Best comb: ', centers)\n",
        "    return best_score, best_centers\n",
        "\n",
        "k = 13\n",
        "G = nx.read_gexf('graph_0146_01234.gexf', node_type=int)\n",
        "k_center_greedy_based(G,k)\n",
        "G = nx.read_gexf('graph_0500_01234.gexf', node_type=int)\n",
        "k_center_greedy_based(G,k)"
      ],
      "execution_count": null,
      "outputs": [
        {
          "output_type": "stream",
          "text": [
            "Best score yet:  857.0\n",
            "Best comb:  [0, 1, 125, 64, 127, 92, 58, 23, 19, 85, 52, 12, 63]\n",
            "Best score yet:  850.0\n",
            "Best comb:  [3, 125, 2, 1, 64, 38, 136, 65, 85, 48, 52, 0, 99]\n",
            "Best score yet:  847.0\n",
            "Best comb:  [7, 32, 96, 112, 91, 103, 127, 6, 90, 140, 113, 69, 83]\n",
            "Best score yet:  842.0\n",
            "Best comb:  [22, 92, 11, 128, 1, 127, 79, 124, 19, 85, 14, 139, 117]\n",
            "Best score yet:  833.0\n",
            "Best comb:  [25, 2, 72, 145, 52, 57, 86, 10, 140, 108, 141, 28, 103]\n",
            "Best score yet:  829.0\n",
            "Best comb:  [66, 145, 2, 1, 52, 72, 10, 140, 115, 5, 74, 103, 63]\n"
          ],
          "name": "stdout"
        },
        {
          "output_type": "execute_result",
          "data": {
            "text/plain": [
              "(829.0, [66, 145, 2, 1, 52, 72, 10, 140, 115, 5, 74, 103, 63])"
            ]
          },
          "metadata": {
            "tags": []
          },
          "execution_count": 63
        }
      ]
    },
    {
      "cell_type": "markdown",
      "metadata": {
        "deletable": false,
        "editable": false,
        "nbgrader": {
          "cell_type": "markdown",
          "checksum": "89ffed6bf82a5e7144ab4429a6f6ff84",
          "grade": false,
          "grade_id": "cell-28681a2c7fe7ccfa",
          "locked": true,
          "schema_version": 3,
          "solution": false,
          "task": false
        },
        "id": "9MS2wwIHeO0_"
      },
      "source": [
        "### Περιγραφή: Να δώσετε μια σύντομη περιγραφή της παραλλαγής του Brute-force που αναπτύξατε για το ερώτημα Β.4."
      ]
    },
    {
      "cell_type": "markdown",
      "metadata": {
        "deletable": false,
        "nbgrader": {
          "cell_type": "markdown",
          "checksum": "be4bbcbf025594823f76ed99e3fdbff0",
          "grade": true,
          "grade_id": "cell-8fad0de16e10c2cd",
          "locked": false,
          "points": 10,
          "schema_version": 3,
          "solution": true,
          "task": false
        },
        "id": "eKP0NyJ3eO0_"
      },
      "source": [
        "Ο αλγόριθμος είναι μια παραλλαγή greedy με brute_force. Δοκιμάζουμε τον αρχικό greedy για κάθε δυνατό αρχικό κέντρο και έτσι βρίσκουμε το καλύτερο δυνατό αποτέλεσμα του greedy"
      ]
    },
    {
      "cell_type": "markdown",
      "metadata": {
        "deletable": false,
        "editable": false,
        "nbgrader": {
          "cell_type": "markdown",
          "checksum": "385b3d50b92cad0d13fe501082d8eb5c",
          "grade": false,
          "grade_id": "cell-3eb25aace60575e4",
          "locked": true,
          "schema_version": 3,
          "solution": false,
          "task": false
        },
        "id": "cbqiOWmLeO0_"
      },
      "source": [
        "## Ερώτημα Γ: Αυτοσχέδιος αλγόριθμος και μπόνους"
      ]
    },
    {
      "cell_type": "markdown",
      "metadata": {
        "deletable": false,
        "editable": false,
        "nbgrader": {
          "cell_type": "markdown",
          "checksum": "a34feba15cebdf6ec7d7c12aaddc5063",
          "grade": false,
          "grade_id": "cell-d39dd615a11b2597",
          "locked": true,
          "schema_version": 3,
          "solution": false,
          "task": false
        },
        "id": "cgOB6YPxeO1A"
      },
      "source": [
        "Να αναπτύξετε αυτοσχέδιο αλγόριθμο ή αλγορίθμους για το πρόβλημα του k-center χρησιμοποιώντας όποιες αλγοριθμικές τεχνικές επιθυμείτε, αρκεί να γνωρίζετε πως και γιατί δουλεύουν. Να εφαρμόσετε τον αλγόριθμο ή τους αλγορίθμους για να βρείτε όσο καλύτερες λύσεις μπορείτε για τα στιγμιότυπα\n",
        "graph_0146_01234.gexf και graph_0500_01234.gexf με k = 13. \n",
        "Προαιρετικά μπορείτε να ανακοινώνετε το κόστος των καλύτερων λύσεων (όχι ποιους κόμβους περιλαμβάνουν) στο θέμα\n",
        "https://www.deece.edu.gr/forum/viewtopic.php?f=222&t=9134.\n"
      ]
    },
    {
      "cell_type": "code",
      "metadata": {
        "deletable": false,
        "nbgrader": {
          "cell_type": "code",
          "checksum": "427b6d7cd9b04a7d0cc72e33539ff97a",
          "grade": true,
          "grade_id": "cell-c8857d480277bf7a",
          "locked": false,
          "points": 10,
          "schema_version": 3,
          "solution": true,
          "task": false
        },
        "id": "rX9De1RjeO1A"
      },
      "source": [
        "# python code\n",
        "def k_center_algorithm(G, k, max_iterations):\n",
        "  min_score = 100000\n",
        "  i = 0\n",
        "  max_center = len(G) - 1\n",
        "  changed = k -1\n",
        "  final_score = 10000\n",
        "  progress = False\n",
        "  my_comb = ran_comb(k, max_center - 1)\n",
        "  # my_comb = [150, 484, 29, 234, 92, 309, 475, 472, 494, 316, 454, 178, 8]  # 500 -> 1785\n",
        "  # my_comb = [67, 135, 124, 119, 121, 80, 33, 56, 31, 82, 55, 64, 70]  # 146 -> 677\n",
        "  min_score = k_centers_objective_value(G, my_comb)\n",
        "  final_score = min_score\n",
        "  rounds = 0\n",
        "  for iterations in range(max_iterations):\n",
        "      if changed == i:\n",
        "          rounds += 1\n",
        "          print('Round: ' + str(rounds) + ' with score: ' + str(min_score))\n",
        "          if min_score < final_score:\n",
        "              final_score = min_score\n",
        "              final_comb = best_comb.copy()\n",
        "          if rounds > 2:\n",
        "              print('Found local minimum. Best score yet is ', final_score)\n",
        "              print('Best combination: ', final_comb)\n",
        "              print('Trying new combination ..')\n",
        "              my_comb = ran_comb(k, max_center - 1)\n",
        "              rounds = 0\n",
        "              min_score = 10000\n",
        "      prev_comb = my_comb.copy()\n",
        "      for j in range(0, max_center):\n",
        "          center = random.randint(0, max_center)\n",
        "          if center not in my_comb:\n",
        "              my_comb[i] = center\n",
        "              for j2 in range(0, max_center):\n",
        "                  center2 = random.randint(0, max_center)\n",
        "                  if center2 not in my_comb:\n",
        "                      if i == k -1 :\n",
        "                          my_comb[0] = center2\n",
        "                      else:\n",
        "                          my_comb[i + 1] = center2\n",
        "                      for j3 in range(0, max_center):\n",
        "                        center3 = random.randint(0, max_center)\n",
        "                        if center3 not in my_comb:\n",
        "                          if i == k - 1:\n",
        "                              my_comb[1] = center3\n",
        "                          else:\n",
        "                              if i == k - 2:\n",
        "                                  my_comb[0] = center3\n",
        "                              else:\n",
        "                                  my_comb[i + 2] = center3\n",
        "                  score = k_centers_objective_value(G, my_comb)\n",
        "                  if score < min_score:\n",
        "                      print('New best score: ', score)\n",
        "                      min_score = score\n",
        "                      best_comb = my_comb.copy()\n",
        "                      changed = i\n",
        "                      progress = True\n",
        "                      break\n",
        "          if progress:\n",
        "              break\n",
        "      if not progress:\n",
        "          my_comb = prev_comb.copy()\n",
        "      i += 1\n",
        "      if i > 12:\n",
        "          i = 0\n",
        "      progress = False\n",
        "\n",
        "  end = default_timer()\n",
        "  execution_time = end - start\n",
        "  print('Execution time: ', execution_time)\n",
        "  print('Best comb ', final_comb)\n",
        "  print('Best Score: ', final_score)\n"
      ],
      "execution_count": null,
      "outputs": []
    },
    {
      "cell_type": "code",
      "metadata": {
        "deletable": false,
        "nbgrader": {
          "cell_type": "code",
          "checksum": "d57a65a7181ba930ed94458a36347dad",
          "grade": false,
          "grade_id": "cell-000940c104c057b3",
          "locked": false,
          "schema_version": 3,
          "solution": true,
          "task": false
        },
        "id": "wSVYaY-leO1D",
        "outputId": "8d0eeb7d-cbf2-4702-e3c8-683573465662",
        "colab": {
          "base_uri": "https://localhost:8080/",
          "height": 1000
        }
      },
      "source": [
        "# Καλύτερη λύση για το πρόβλημα graph_0146_01234.gexf\n",
        "best_cost_0146 = 677\n",
        "best_centers_0146 = [67, 135, 124, 119, 121, 80, 33, 56, 31, 82, 55, 64, 70]\n",
        "\n",
        "k = 13\n",
        "G = nx.read_gexf('graph_0146_01234.gexf', node_type=int)\n",
        "k_center_algorithm(G, k, 1000)"
      ],
      "execution_count": null,
      "outputs": [
        {
          "output_type": "stream",
          "text": [
            "New best score:  1326.0\n",
            "New best score:  992.0\n",
            "New best score:  957.0\n",
            "New best score:  941.0\n",
            "New best score:  921.0\n",
            "New best score:  851.0\n",
            "New best score:  850.0\n",
            "New best score:  832.0\n",
            "New best score:  827.0\n",
            "New best score:  793.0\n",
            "New best score:  782.0\n",
            "New best score:  779.0\n",
            "New best score:  769.0\n",
            "New best score:  756.0\n",
            "New best score:  746.0\n",
            "New best score:  744.0\n",
            "New best score:  738.0\n",
            "New best score:  724.0\n",
            "Round: 1 with score: 724.0\n",
            "Round: 2 with score: 724.0\n",
            "Round: 3 with score: 724.0\n",
            "Found local minimum. Best score yet is  724.0\n",
            "Best combination:  [31, 131, 73, 2, 91, 88, 106, 68, 49, 79, 36, 70, 134]\n",
            "Trying new combination ..\n",
            "New best score:  1376.0\n",
            "New best score:  1182.0\n",
            "New best score:  1093.0\n",
            "New best score:  994.0\n",
            "New best score:  980.0\n",
            "New best score:  958.0\n",
            "New best score:  943.0\n",
            "New best score:  933.0\n",
            "New best score:  919.0\n",
            "New best score:  846.0\n",
            "New best score:  820.0\n",
            "New best score:  808.0\n",
            "New best score:  805.0\n",
            "New best score:  800.0\n",
            "New best score:  799.0\n",
            "New best score:  793.0\n",
            "New best score:  787.0\n",
            "New best score:  786.0\n",
            "New best score:  773.0\n",
            "New best score:  764.0\n",
            "New best score:  763.0\n",
            "New best score:  753.0\n",
            "New best score:  746.0\n",
            "Round: 1 with score: 746.0\n",
            "Round: 2 with score: 746.0\n",
            "Round: 3 with score: 746.0\n",
            "Found local minimum. Best score yet is  724.0\n",
            "Best combination:  [31, 131, 73, 2, 91, 88, 106, 68, 49, 79, 36, 70, 134]\n",
            "Trying new combination ..\n",
            "New best score:  1293.0\n",
            "New best score:  1243.0\n",
            "New best score:  1207.0\n",
            "New best score:  1182.0\n",
            "New best score:  1132.0\n",
            "New best score:  982.0\n",
            "New best score:  970.0\n",
            "New best score:  967.0\n",
            "New best score:  963.0\n",
            "New best score:  917.0\n",
            "New best score:  903.0\n",
            "New best score:  895.0\n",
            "New best score:  868.0\n",
            "New best score:  863.0\n",
            "New best score:  847.0\n",
            "New best score:  826.0\n",
            "New best score:  820.0\n",
            "New best score:  796.0\n",
            "New best score:  793.0\n",
            "New best score:  787.0\n",
            "New best score:  782.0\n",
            "New best score:  769.0\n",
            "New best score:  763.0\n",
            "New best score:  748.0\n",
            "New best score:  746.0\n",
            "New best score:  737.0\n",
            "Round: 1 with score: 737.0\n",
            "Round: 2 with score: 737.0\n",
            "Round: 3 with score: 737.0\n",
            "Found local minimum. Best score yet is  724.0\n",
            "Best combination:  [31, 131, 73, 2, 91, 88, 106, 68, 49, 79, 36, 70, 134]\n",
            "Trying new combination ..\n",
            "New best score:  1143.0\n",
            "New best score:  1052.0\n",
            "New best score:  1012.0\n",
            "New best score:  970.0\n",
            "New best score:  967.0\n",
            "New best score:  965.0\n",
            "New best score:  931.0\n",
            "New best score:  930.0\n",
            "New best score:  929.0\n",
            "New best score:  919.0\n",
            "New best score:  902.0\n",
            "New best score:  894.0\n",
            "New best score:  887.0\n",
            "New best score:  876.0\n",
            "New best score:  848.0\n",
            "New best score:  838.0\n",
            "New best score:  827.0\n",
            "New best score:  821.0\n",
            "New best score:  812.0\n",
            "New best score:  793.0\n",
            "New best score:  782.0\n",
            "New best score:  778.0\n",
            "New best score:  774.0\n",
            "New best score:  764.0\n",
            "New best score:  761.0\n",
            "New best score:  760.0\n",
            "New best score:  756.0\n",
            "New best score:  753.0\n",
            "New best score:  750.0\n",
            "Round: 1 with score: 750.0\n",
            "Round: 2 with score: 750.0\n",
            "Round: 3 with score: 750.0\n",
            "Found local minimum. Best score yet is  724.0\n",
            "Best combination:  [31, 131, 73, 2, 91, 88, 106, 68, 49, 79, 36, 70, 134]\n",
            "Trying new combination ..\n",
            "New best score:  1229.0\n",
            "New best score:  1090.0\n",
            "New best score:  1089.0\n",
            "New best score:  1049.0\n",
            "New best score:  1029.0\n",
            "New best score:  1026.0\n",
            "New best score:  977.0\n",
            "New best score:  967.0\n",
            "New best score:  956.0\n",
            "New best score:  893.0\n",
            "New best score:  864.0\n",
            "New best score:  848.0\n",
            "New best score:  840.0\n",
            "New best score:  820.0\n",
            "New best score:  818.0\n",
            "New best score:  802.0\n",
            "New best score:  798.0\n",
            "New best score:  796.0\n",
            "New best score:  787.0\n",
            "New best score:  778.0\n",
            "Round: 1 with score: 778.0\n",
            "New best score:  761.0\n",
            "New best score:  759.0\n",
            "New best score:  756.0\n",
            "New best score:  746.0\n",
            "Round: 2 with score: 746.0\n",
            "Round: 3 with score: 746.0\n",
            "Found local minimum. Best score yet is  724.0\n",
            "Best combination:  [31, 131, 73, 2, 91, 88, 106, 68, 49, 79, 36, 70, 134]\n",
            "Trying new combination ..\n",
            "New best score:  1097.0\n",
            "New best score:  1089.0\n",
            "New best score:  1024.0\n",
            "New best score:  957.0\n",
            "New best score:  955.0\n",
            "New best score:  949.0\n",
            "New best score:  890.0\n",
            "New best score:  888.0\n",
            "New best score:  884.0\n",
            "New best score:  854.0\n",
            "New best score:  806.0\n",
            "New best score:  805.0\n",
            "New best score:  804.0\n",
            "New best score:  782.0\n",
            "New best score:  769.0\n",
            "New best score:  762.0\n",
            "New best score:  759.0\n",
            "New best score:  758.0\n",
            "New best score:  756.0\n",
            "New best score:  750.0\n",
            "Round: 1 with score: 750.0\n",
            "Round: 2 with score: 750.0\n",
            "Round: 3 with score: 750.0\n",
            "Found local minimum. Best score yet is  724.0\n",
            "Best combination:  [31, 131, 73, 2, 91, 88, 106, 68, 49, 79, 36, 70, 134]\n",
            "Trying new combination ..\n",
            "New best score:  1248.0\n",
            "New best score:  1229.0\n",
            "New best score:  1213.0\n",
            "New best score:  1186.0\n",
            "New best score:  1099.0\n",
            "New best score:  1097.0\n",
            "New best score:  926.0\n",
            "New best score:  919.0\n",
            "New best score:  884.0\n",
            "New best score:  862.0\n",
            "New best score:  850.0\n",
            "New best score:  840.0\n",
            "New best score:  831.0\n",
            "New best score:  808.0\n",
            "New best score:  801.0\n",
            "New best score:  800.0\n",
            "New best score:  798.0\n",
            "New best score:  796.0\n",
            "New best score:  770.0\n",
            "New best score:  763.0\n",
            "New best score:  757.0\n",
            "New best score:  753.0\n",
            "New best score:  746.0\n",
            "New best score:  737.0\n",
            "Round: 1 with score: 737.0\n",
            "Round: 2 with score: 737.0\n",
            "Round: 3 with score: 737.0\n",
            "Found local minimum. Best score yet is  724.0\n",
            "Best combination:  [31, 131, 73, 2, 91, 88, 106, 68, 49, 79, 36, 70, 134]\n",
            "Trying new combination ..\n",
            "New best score:  1095.0\n",
            "New best score:  1074.0\n",
            "New best score:  1069.0\n",
            "New best score:  1056.0\n",
            "New best score:  1052.0\n",
            "New best score:  973.0\n",
            "New best score:  957.0\n",
            "New best score:  943.0\n",
            "New best score:  921.0\n",
            "New best score:  920.0\n",
            "New best score:  876.0\n",
            "New best score:  840.0\n",
            "New best score:  830.0\n",
            "New best score:  828.0\n",
            "New best score:  821.0\n",
            "New best score:  820.0\n",
            "New best score:  816.0\n",
            "New best score:  808.0\n",
            "New best score:  793.0\n",
            "New best score:  779.0\n",
            "Round: 1 with score: 779.0\n",
            "Round: 2 with score: 779.0\n",
            "Round: 3 with score: 779.0\n",
            "Found local minimum. Best score yet is  724.0\n",
            "Best combination:  [31, 131, 73, 2, 91, 88, 106, 68, 49, 79, 36, 70, 134]\n",
            "Trying new combination ..\n",
            "New best score:  997.0\n",
            "New best score:  921.0\n",
            "New best score:  913.0\n",
            "New best score:  908.0\n",
            "New best score:  877.0\n",
            "New best score:  858.0\n",
            "New best score:  849.0\n",
            "New best score:  840.0\n",
            "New best score:  831.0\n",
            "New best score:  806.0\n",
            "New best score:  804.0\n",
            "New best score:  775.0\n",
            "New best score:  769.0\n",
            "New best score:  767.0\n",
            "New best score:  759.0\n",
            "New best score:  750.0\n",
            "Round: 1 with score: 750.0\n",
            "Round: 2 with score: 750.0\n",
            "New best score:  743.0\n",
            "New best score:  736.0\n",
            "New best score:  729.0\n",
            "New best score:  726.0\n",
            "Round: 3 with score: 726.0\n",
            "Found local minimum. Best score yet is  724.0\n",
            "Best combination:  [31, 131, 73, 2, 91, 88, 106, 68, 49, 79, 36, 70, 134]\n",
            "Trying new combination ..\n",
            "New best score:  1155.0\n",
            "New best score:  1099.0\n",
            "New best score:  1037.0\n",
            "New best score:  970.0\n",
            "New best score:  962.0\n",
            "New best score:  942.0\n",
            "New best score:  914.0\n",
            "New best score:  909.0\n",
            "New best score:  898.0\n",
            "New best score:  895.0\n",
            "New best score:  878.0\n",
            "New best score:  829.0\n",
            "New best score:  820.0\n",
            "New best score:  813.0\n",
            "New best score:  782.0\n",
            "New best score:  779.0\n",
            "New best score:  768.0\n",
            "New best score:  764.0\n",
            "New best score:  759.0\n",
            "New best score:  750.0\n",
            "New best score:  747.0\n",
            "New best score:  740.0\n",
            "New best score:  738.0\n",
            "New best score:  731.0\n",
            "New best score:  726.0\n",
            "Round: 1 with score: 726.0\n",
            "Round: 2 with score: 726.0\n",
            "Round: 3 with score: 726.0\n",
            "Found local minimum. Best score yet is  724.0\n",
            "Best combination:  [31, 131, 73, 2, 91, 88, 106, 68, 49, 79, 36, 70, 134]\n",
            "Trying new combination ..\n",
            "New best score:  1372.0\n",
            "New best score:  995.0\n",
            "New best score:  971.0\n",
            "New best score:  962.0\n",
            "New best score:  950.0\n",
            "New best score:  931.0\n",
            "New best score:  896.0\n",
            "New best score:  891.0\n",
            "New best score:  850.0\n",
            "New best score:  848.0\n",
            "New best score:  837.0\n",
            "New best score:  832.0\n",
            "New best score:  829.0\n",
            "New best score:  823.0\n",
            "New best score:  813.0\n",
            "New best score:  800.0\n",
            "New best score:  790.0\n",
            "New best score:  780.0\n",
            "New best score:  776.0\n",
            "New best score:  769.0\n",
            "New best score:  767.0\n",
            "New best score:  763.0\n",
            "New best score:  746.0\n",
            "New best score:  742.0\n",
            "New best score:  737.0\n",
            "New best score:  726.0\n",
            "New best score:  725.0\n",
            "New best score:  723.0\n",
            "Round: 1 with score: 723.0\n",
            "Round: 2 with score: 723.0\n",
            "Round: 3 with score: 723.0\n",
            "Found local minimum. Best score yet is  723.0\n",
            "Best combination:  [67, 142, 49, 22, 119, 81, 26, 105, 4, 80, 35, 122, 107]\n",
            "Trying new combination ..\n",
            "New best score:  1213.0\n",
            "New best score:  1024.0\n",
            "New best score:  1012.0\n",
            "New best score:  985.0\n",
            "New best score:  958.0\n",
            "New best score:  921.0\n",
            "New best score:  898.0\n",
            "New best score:  864.0\n",
            "New best score:  863.0\n",
            "New best score:  861.0\n",
            "New best score:  833.0\n",
            "New best score:  809.0\n",
            "New best score:  804.0\n",
            "New best score:  801.0\n",
            "New best score:  793.0\n",
            "New best score:  790.0\n",
            "New best score:  778.0\n",
            "New best score:  757.0\n",
            "New best score:  751.0\n"
          ],
          "name": "stdout"
        }
      ]
    },
    {
      "cell_type": "code",
      "metadata": {
        "deletable": false,
        "editable": false,
        "nbgrader": {
          "cell_type": "code",
          "checksum": "c489a22a2900dfae74dce62712f16efd",
          "grade": true,
          "grade_id": "cell-0e3cbe442be8a112",
          "locked": true,
          "points": 10,
          "schema_version": 3,
          "solution": false,
          "task": false
        },
        "id": "aoOv68jFeO1F"
      },
      "source": [
        "# Έλεγχος και αξιολόγηση της απάντησης. Μην κάνετε αλλαγές στο κελί αυτό."
      ],
      "execution_count": null,
      "outputs": []
    },
    {
      "cell_type": "code",
      "metadata": {
        "deletable": false,
        "nbgrader": {
          "cell_type": "code",
          "checksum": "d51c339e5e9d96c561a3967124a2718d",
          "grade": false,
          "grade_id": "cell-8af76624b7883e62",
          "locked": false,
          "schema_version": 3,
          "solution": true,
          "task": false
        },
        "id": "xtCtJjP5eO1G"
      },
      "source": [
        "# Καλύτερη λύση για το πρόβλημα graph_0500_01234.gexf\n",
        "best_cost_0500 = 1785\n",
        "best_centers_0500 = [150, 484, 29, 234, 92, 309, 475, 472, 494, 316, 454, 178, 8]\n",
        "k = 13\n",
        "G = nx.read_gexf('graph_0146_01234.gexf', node_type=int)\n",
        "k_center_algorithm(G, k, 1000)"
      ],
      "execution_count": null,
      "outputs": []
    },
    {
      "cell_type": "code",
      "metadata": {
        "deletable": false,
        "editable": false,
        "nbgrader": {
          "cell_type": "code",
          "checksum": "389e362f2f365702fdd5abdd77b14e3e",
          "grade": true,
          "grade_id": "cell-0b73d8082e373915",
          "locked": true,
          "points": 10,
          "schema_version": 3,
          "solution": false,
          "task": false
        },
        "id": "fLDtqk3BeO1J"
      },
      "source": [
        "# Έλεγχος και αξιολόγηση της απάντησης. Μην κάνετε αλλαγές στο κελί αυτό."
      ],
      "execution_count": null,
      "outputs": []
    },
    {
      "cell_type": "markdown",
      "metadata": {
        "deletable": false,
        "editable": false,
        "nbgrader": {
          "cell_type": "markdown",
          "checksum": "d809f0e410551fb6b62a4e92d571e20b",
          "grade": false,
          "grade_id": "cell-53522e1b73763d2a",
          "locked": true,
          "schema_version": 3,
          "solution": false,
          "task": false
        },
        "id": "Z0p2DoWteO1L"
      },
      "source": [
        "### Περιγραφή: Να δώσετε μια σύντομη περιγραφή της παραλλαγής του Brute-force που αναπτύξατε για το ερώτημα Γ."
      ]
    },
    {
      "cell_type": "markdown",
      "metadata": {
        "deletable": false,
        "nbgrader": {
          "cell_type": "markdown",
          "checksum": "d94502cd4d950b3b147c22fa9afea3b5",
          "grade": true,
          "grade_id": "cell-5684df21a8652bfa",
          "locked": false,
          "points": 10,
          "schema_version": 3,
          "solution": true,
          "task": false
        },
        "id": "yGUYLElTeO1L"
      },
      "source": [
        "Αυτός ο αλγόριθμος βασίζεται στο σκεπτικό του αλγορίθμου στο Α4. Αυτή τη φορά προσπαθούμε να βρούμε το τοπικό ελάχιστο αλλάζοντας 3 κεντρα κάθε φορά. Έτσι ο αλγόριθμος μπορεί να βρει καλύτερο σκορ αλλά χρειάζεται περισσότερο χρόνο.\n",
        "Αυτό μπορούμε να το εκμεταλλέυτούμε ξεκινώντας τον αλγόριθμο με ένα γνωστό καλό συνδιασμό κέντρων απο άλλο ερώτημα και να δουμε αν βετιωθεί το σκορ.\n",
        "Για να μην τρέχει επ αόριστον βάζουμε ένα όριο max_iterations.\n",
        "\n",
        "Βρήκαμε το καλύτερο γνωστό σκορ για τον graph_0146_01234.gexf και το 2ο καλύτερο για τον graph_0500_01234.gexf."
      ]
    }
  ]
}